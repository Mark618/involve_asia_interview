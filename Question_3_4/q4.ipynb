{
  "cells": [
    {
      "cell_type": "markdown",
      "metadata": {
        "id": "QaHuzBq-LFaK"
      },
      "source": [
        "ABC is an online advertisement firm, the management found adblocker used by the users is affecting the revenue. The firm has invested significantly to distribute custom adblock whitelists. Below is the table showing the number of sample adblock detected before the distribution of the first 3 months (12 weeks) and the next 3 months after the whitelist has been distributed. (Ideally use jupyter notebook)"
      ]
    },
    {
      "cell_type": "code",
      "execution_count": 1,
      "metadata": {
        "id": "N8Eoqc2dLYJ2"
      },
      "outputs": [],
      "source": [
        "import numpy as np\n",
        "from scipy import stats"
      ]
    },
    {
      "cell_type": "code",
      "execution_count": 2,
      "metadata": {
        "id": "_7CwrDkQMBTP"
      },
      "outputs": [],
      "source": [
        "first = np.array([3100, 2800, 1900, 2400, 3200, 2700, 1600, 4100, 2300, 3200, 2900, 3300])\n",
        "second = np.array([2300, 2100, 1900, 2400, 3500, 1700, 1800, 2400, 3300, 2700, 2100, 2300])"
      ]
    },
    {
      "cell_type": "markdown",
      "metadata": {
        "id": "XiLP6aMYMyKr"
      },
      "source": [
        "Average\n",
        "difference between the first table and the second table."
      ]
    },
    {
      "cell_type": "code",
      "execution_count": 3,
      "metadata": {
        "colab": {
          "base_uri": "https://localhost:8080/"
        },
        "id": "vwMDbIN7MKgx",
        "outputId": "bb811e45-3dd3-4a1a-b22f-a4101a89b139"
      },
      "outputs": [
        {
          "name": "stdout",
          "output_type": "stream",
          "text": [
            "Different 416.67\n"
          ]
        }
      ],
      "source": [
        "print(\"Different \"+str(round(np.average(first)-np.average(second),2)))"
      ]
    },
    {
      "cell_type": "markdown",
      "metadata": {
        "id": "2DdeSZvrNmxL"
      },
      "source": [
        "Could the difference legit and not due to chance? Use a statistical approach to\n",
        "demonstrate your assumptions."
      ]
    }
  ],
  "metadata": {
    "colab": {
      "collapsed_sections": [],
      "name": "q4.ipynb",
      "provenance": []
    },
    "kernelspec": {
      "display_name": "Python 3",
      "name": "python3"
    },
    "language_info": {
      "codemirror_mode": {
        "name": "ipython",
        "version": 3
      },
      "file_extension": ".py",
      "mimetype": "text/x-python",
      "name": "python",
      "nbconvert_exporter": "python",
      "pygments_lexer": "ipython3",
      "version": "3.8.10"
    }
  },
  "nbformat": 4,
  "nbformat_minor": 0
}
